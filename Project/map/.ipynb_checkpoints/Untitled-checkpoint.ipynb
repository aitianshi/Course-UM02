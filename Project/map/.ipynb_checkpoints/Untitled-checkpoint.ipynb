{
 "cells": [
  {
   "cell_type": "code",
   "execution_count": 95,
   "metadata": {},
   "outputs": [],
   "source": [
    "import pandas as pd\n",
    "import requests as rq\n",
    "import pickle"
   ]
  },
  {
   "cell_type": "code",
   "execution_count": null,
   "metadata": {},
   "outputs": [],
   "source": [
    "with open('cities.pkl', 'rb') as handle:\n",
    "  cities = pickle.load(handle)\n",
    "cities"
   ]
  },
  {
   "cell_type": "code",
   "execution_count": null,
   "metadata": {},
   "outputs": [],
   "source": [
    "api_key = \"dfba11f4-bed0-48a3-b1ff-da9c82afab9c\"\n",
    "states_rq = \"https://api.airvisual.com/v2/states?country=China&key=\"\n",
    "cities_rq = [\"https://api.airvisual.com/v2/cities?state=\",\"&country=China&key=\"]\n",
    "data_rq = [\"https://api.airvisual.com/v2/city?city=\",\"&state=\",\"&country=China&key=\"]"
   ]
  },
  {
   "cell_type": "code",
   "execution_count": null,
   "metadata": {},
   "outputs": [],
   "source": [
    "request_1 = rq.get(states_rq + api_key)"
   ]
  },
  {
   "cell_type": "code",
   "execution_count": null,
   "metadata": {},
   "outputs": [],
   "source": [
    "states = []\n",
    "for state in request_1.json()['data']:\n",
    "    states.append(state['state'])"
   ]
  },
  {
   "cell_type": "code",
   "execution_count": 37,
   "metadata": {},
   "outputs": [
    {
     "data": {
      "text/plain": [
       "['Anhui',\n",
       " 'Beijing',\n",
       " 'Chongqing',\n",
       " 'Fujian',\n",
       " 'Gansu',\n",
       " 'Guangdong',\n",
       " 'Guangxi',\n",
       " 'Guizhou',\n",
       " 'Hainan',\n",
       " 'Hebei',\n",
       " 'Heilongjiang',\n",
       " 'Henan',\n",
       " 'Hubei',\n",
       " 'Hunan',\n",
       " 'Inner Mongolia',\n",
       " 'Jiangsu',\n",
       " 'Jiangxi',\n",
       " 'Jilin',\n",
       " 'Liaoning',\n",
       " 'Ningxia',\n",
       " 'Qinghai',\n",
       " 'Shaanxi',\n",
       " 'Shandong',\n",
       " 'Shanghai',\n",
       " 'Shanxi',\n",
       " 'Sichuan',\n",
       " 'Tianjin',\n",
       " 'Tibet',\n",
       " 'Xinjiang',\n",
       " 'Yunnan',\n",
       " 'Zhejiang']"
      ]
     },
     "execution_count": 37,
     "metadata": {},
     "output_type": "execute_result"
    }
   ],
   "source": [
    "states"
   ]
  },
  {
   "cell_type": "code",
   "execution_count": 64,
   "metadata": {},
   "outputs": [],
   "source": [
    "cities = {}"
   ]
  },
  {
   "cell_type": "code",
   "execution_count": 79,
   "metadata": {},
   "outputs": [],
   "source": [
    "for state in states:\n",
    "    if state not in cities.keys():\n",
    "        cities[state] = []\n",
    "    \n",
    "    if cities[state]!=[]:\n",
    "        continue\n",
    "\n",
    "    request_2 = rq.get(cities_rq[0] + state + cities_rq[1] + api_key)\n",
    "    \n",
    "    for city in request_2.json()['data']:\n",
    "        cities[state].append(city['city'])"
   ]
  },
  {
   "cell_type": "code",
   "execution_count": null,
   "metadata": {},
   "outputs": [],
   "source": [
    "cities"
   ]
  },
  {
   "cell_type": "code",
   "execution_count": 85,
   "metadata": {},
   "outputs": [],
   "source": [
    "# Save isocodes object for later use\n",
    "with open('cities.pkl', 'wb') as handle:\n",
    "  pickle.dump(cities, handle)"
   ]
  },
  {
   "cell_type": "code",
   "execution_count": 114,
   "metadata": {},
   "outputs": [],
   "source": [
    "data = {}"
   ]
  },
  {
   "cell_type": "code",
   "execution_count": 133,
   "metadata": {},
   "outputs": [
    {
     "name": "stdout",
     "output_type": "stream",
     "text": [
      "https://api.airvisual.com/v2/city?city=Anqing&state=Anhui&country=China&key=dfba11f4-bed0-48a3-b1ff-da9c82afab9c\n",
      "{'city': 'Anqing', 'state': 'Anhui', 'country': 'China', 'location': {'type': 'Point', 'coordinates': [117.065564, 30.549717]}, 'current': {'weather': {'ts': '2019-12-10T08:00:00.000Z', 'tp': 15, 'pr': 1019, 'hu': 43, 'ws': 2.03, 'wd': 206, 'ic': '04d'}, 'pollution': {'ts': '2019-12-10T08:00:00.000Z', 'aqius': 152, 'mainus': 'p2', 'aqicn': 79, 'maincn': 'p2'}}}\n",
      "https://api.airvisual.com/v2/city?city=Bengbu&state=Anhui&country=China&key=dfba11f4-bed0-48a3-b1ff-da9c82afab9c\n",
      "{'city': 'Bengbu', 'state': 'Anhui', 'country': 'China', 'location': {'type': 'Point', 'coordinates': [117.4097576688, 32.9331991165]}, 'current': {'weather': {'ts': '2019-12-10T08:00:00.000Z', 'tp': 15, 'pr': 1017, 'hu': 43, 'ws': 3.34, 'wd': 238, 'ic': '04d'}, 'pollution': {'ts': '2019-12-10T08:00:00.000Z', 'aqius': 118, 'mainus': 'p2', 'aqicn': 61, 'maincn': 'p1'}}}\n",
      "https://api.airvisual.com/v2/city?city=Bozhou&state=Anhui&country=China&key=dfba11f4-bed0-48a3-b1ff-da9c82afab9c\n",
      "{'city': 'Bozhou', 'state': 'Anhui', 'country': 'China', 'location': {'type': 'Point', 'coordinates': [115.7879282451, 33.8712105653]}, 'current': {'weather': {'ts': '2019-12-10T08:00:00.000Z', 'tp': 13, 'pr': 1017, 'hu': 25, 'ws': 4.01, 'wd': 349, 'ic': '04d'}, 'pollution': {'ts': '2019-12-10T08:00:00.000Z', 'aqius': 164, 'mainus': 'p2', 'aqicn': 108, 'maincn': 'p2'}}}\n",
      "https://api.airvisual.com/v2/city?city=Chaohu&state=Anhui&country=China&key=dfba11f4-bed0-48a3-b1ff-da9c82afab9c\n",
      "{'city': 'Chaohu', 'state': 'Anhui', 'country': 'China', 'location': {'type': 'Point', 'coordinates': [117.86667, 31.6]}, 'current': {'weather': {'ts': '2019-12-10T06:00:00.000Z', 'tp': 19, 'pr': 1016, 'hu': 25, 'ws': 4, 'wd': 250, 'ic': '02d'}}}\n"
     ]
    },
    {
     "ename": "KeyError",
     "evalue": "'pollution'",
     "output_type": "error",
     "traceback": [
      "\u001b[0;31m---------------------------------------------------------------------------\u001b[0m",
      "\u001b[0;31mKeyError\u001b[0m                                  Traceback (most recent call last)",
      "\u001b[0;32m<ipython-input-133-67e72f95bb24>\u001b[0m in \u001b[0;36m<module>\u001b[0;34m\u001b[0m\n\u001b[1;32m     20\u001b[0m \u001b[0;34m\u001b[0m\u001b[0m\n\u001b[1;32m     21\u001b[0m         \u001b[0mdata\u001b[0m\u001b[0;34m[\u001b[0m\u001b[0mcity\u001b[0m\u001b[0;34m]\u001b[0m\u001b[0;34m.\u001b[0m\u001b[0mupdate\u001b[0m\u001b[0;34m(\u001b[0m\u001b[0;34m{\u001b[0m\u001b[0;34m'coord'\u001b[0m\u001b[0;34m:\u001b[0m \u001b[0mresp\u001b[0m\u001b[0;34m[\u001b[0m\u001b[0;34m'location'\u001b[0m\u001b[0;34m]\u001b[0m\u001b[0;34m[\u001b[0m\u001b[0;34m'coordinates'\u001b[0m\u001b[0;34m]\u001b[0m\u001b[0;34m}\u001b[0m\u001b[0;34m)\u001b[0m\u001b[0;34m\u001b[0m\u001b[0;34m\u001b[0m\u001b[0m\n\u001b[0;32m---> 22\u001b[0;31m         \u001b[0mdata\u001b[0m\u001b[0;34m[\u001b[0m\u001b[0mcity\u001b[0m\u001b[0;34m]\u001b[0m\u001b[0;34m.\u001b[0m\u001b[0mupdate\u001b[0m\u001b[0;34m(\u001b[0m\u001b[0;34m{\u001b[0m\u001b[0;34m'info'\u001b[0m \u001b[0;34m:\u001b[0m \u001b[0mresp\u001b[0m\u001b[0;34m[\u001b[0m\u001b[0;34m'current'\u001b[0m\u001b[0;34m]\u001b[0m\u001b[0;34m[\u001b[0m\u001b[0;34m'pollution'\u001b[0m\u001b[0;34m]\u001b[0m\u001b[0;34m}\u001b[0m\u001b[0;34m)\u001b[0m\u001b[0;34m\u001b[0m\u001b[0;34m\u001b[0m\u001b[0m\n\u001b[0m",
      "\u001b[0;31mKeyError\u001b[0m: 'pollution'"
     ]
    }
   ],
   "source": [
    "for state in cities:\n",
    "    for city in cities[state]:\n",
    "        if city not in data.keys():\n",
    "            data[city] = {}\n",
    "        \n",
    "        if data[city] != {}:\n",
    "            continue\n",
    "        \n",
    "        url = data_rq[0] + city + data_rq[1] + state + data_rq[2] + api_key\n",
    "    \n",
    "        request_3 = rq.get(url)\n",
    "        # data_rq = [\"https://api.airvisual.com/v2/city?city=\",\"&state=\",\"&country=China&key=\"]\n",
    "        \n",
    "        resp = request_3.json()['data']\n",
    "        \n",
    "        if (\"location\" not in resp.keys()) or (\"pollution\" not in resp['current'].keys()):\n",
    "            #\n",
    "            #data[city].update({'to_delete': {}})\n",
    "            continue\n",
    "        print(resp)\n",
    "        \n",
    "        data[city].update({'coord': resp['location']['coordinates']})\n",
    "        data[city].update({'info' : resp['current']['pollution']})"
   ]
  },
  {
   "cell_type": "code",
   "execution_count": 135,
   "metadata": {},
   "outputs": [
    {
     "ename": "KeyError",
     "evalue": "'to_delete'",
     "output_type": "error",
     "traceback": [
      "\u001b[0;31m---------------------------------------------------------------------------\u001b[0m",
      "\u001b[0;31mKeyError\u001b[0m                                  Traceback (most recent call last)",
      "\u001b[0;32m<ipython-input-135-819dc8ce9b28>\u001b[0m in \u001b[0;36m<module>\u001b[0;34m\u001b[0m\n\u001b[0;32m----> 1\u001b[0;31m \u001b[0mlen\u001b[0m\u001b[0;34m(\u001b[0m\u001b[0;34m[\u001b[0m\u001b[0mdata\u001b[0m\u001b[0;34m[\u001b[0m\u001b[0;34m'to_delete'\u001b[0m\u001b[0;34m]\u001b[0m \u001b[0;34m==\u001b[0m \u001b[0;34m{\u001b[0m\u001b[0;34m}\u001b[0m\u001b[0;34m]\u001b[0m\u001b[0;34m)\u001b[0m\u001b[0;34m\u001b[0m\u001b[0;34m\u001b[0m\u001b[0m\n\u001b[0m",
      "\u001b[0;31mKeyError\u001b[0m: 'to_delete'"
     ]
    }
   ],
   "source": []
  },
  {
   "cell_type": "code",
   "execution_count": 136,
   "metadata": {},
   "outputs": [
    {
     "name": "stdout",
     "output_type": "stream",
     "text": [
      "{'coord': [117.065564, 30.549717], 'info': {'ts': '2019-12-10T08:00:00.000Z', 'aqius': 152, 'mainus': 'p2', 'aqicn': 79, 'maincn': 'p2'}}\n",
      "{'coord': [117.4097576688, 32.9331991165], 'info': {'ts': '2019-12-10T08:00:00.000Z', 'aqius': 118, 'mainus': 'p2', 'aqicn': 61, 'maincn': 'p1'}}\n",
      "{'coord': [115.7879282451, 33.8712105653], 'info': {'ts': '2019-12-10T08:00:00.000Z', 'aqius': 164, 'mainus': 'p2', 'aqicn': 108, 'maincn': 'p2'}}\n",
      "{'to_delete': {}, 'coord': [117.86667, 31.6]}\n"
     ]
    },
    {
     "ename": "RuntimeError",
     "evalue": "dictionary changed size during iteration",
     "output_type": "error",
     "traceback": [
      "\u001b[0;31m---------------------------------------------------------------------------\u001b[0m",
      "\u001b[0;31mRuntimeError\u001b[0m                              Traceback (most recent call last)",
      "\u001b[0;32m<ipython-input-136-35f6c2ec8ad5>\u001b[0m in \u001b[0;36m<module>\u001b[0;34m\u001b[0m\n\u001b[1;32m      1\u001b[0m \u001b[0mind\u001b[0m \u001b[0;34m=\u001b[0m \u001b[0;36m0\u001b[0m\u001b[0;34m\u001b[0m\u001b[0;34m\u001b[0m\u001b[0m\n\u001b[0;32m----> 2\u001b[0;31m \u001b[0;32mfor\u001b[0m \u001b[0mcity\u001b[0m \u001b[0;32min\u001b[0m \u001b[0mdata\u001b[0m\u001b[0;34m:\u001b[0m\u001b[0;34m\u001b[0m\u001b[0;34m\u001b[0m\u001b[0m\n\u001b[0m\u001b[1;32m      3\u001b[0m     \u001b[0mprint\u001b[0m\u001b[0;34m(\u001b[0m\u001b[0mdata\u001b[0m\u001b[0;34m[\u001b[0m\u001b[0mcity\u001b[0m\u001b[0;34m]\u001b[0m\u001b[0;34m)\u001b[0m\u001b[0;34m\u001b[0m\u001b[0;34m\u001b[0m\u001b[0m\n\u001b[1;32m      4\u001b[0m     \u001b[0;32mif\u001b[0m \u001b[0;34m'to_delete'\u001b[0m \u001b[0;32min\u001b[0m \u001b[0mdata\u001b[0m\u001b[0;34m[\u001b[0m\u001b[0mcity\u001b[0m\u001b[0;34m]\u001b[0m\u001b[0;34m.\u001b[0m\u001b[0mkeys\u001b[0m\u001b[0;34m(\u001b[0m\u001b[0;34m)\u001b[0m\u001b[0;34m:\u001b[0m\u001b[0;34m\u001b[0m\u001b[0;34m\u001b[0m\u001b[0m\n\u001b[1;32m      5\u001b[0m         \u001b[0;32mdel\u001b[0m \u001b[0mdata\u001b[0m\u001b[0;34m[\u001b[0m\u001b[0mcity\u001b[0m\u001b[0;34m]\u001b[0m\u001b[0;34m\u001b[0m\u001b[0;34m\u001b[0m\u001b[0m\n",
      "\u001b[0;31mRuntimeError\u001b[0m: dictionary changed size during iteration"
     ]
    }
   ],
   "source": [
    "ind = 0\n",
    "for city in data:\n",
    "    print(data[city])\n",
    "    if 'to_delete' in data[city].keys():\n",
    "        del data[city]"
   ]
  },
  {
   "cell_type": "code",
   "execution_count": 130,
   "metadata": {},
   "outputs": [
    {
     "data": {
      "text/plain": [
       "706"
      ]
     },
     "execution_count": 130,
     "metadata": {},
     "output_type": "execute_result"
    }
   ],
   "source": [
    "ind"
   ]
  },
  {
   "cell_type": "code",
   "execution_count": null,
   "metadata": {},
   "outputs": [],
   "source": []
  }
 ],
 "metadata": {
  "kernelspec": {
   "display_name": "Python 3",
   "language": "python",
   "name": "python3"
  },
  "language_info": {
   "codemirror_mode": {
    "name": "ipython",
    "version": 3
   },
   "file_extension": ".py",
   "mimetype": "text/x-python",
   "name": "python",
   "nbconvert_exporter": "python",
   "pygments_lexer": "ipython3",
   "version": "3.7.3"
  }
 },
 "nbformat": 4,
 "nbformat_minor": 4
}
